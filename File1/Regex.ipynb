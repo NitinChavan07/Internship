{
 "cells": [
  {
   "cell_type": "markdown",
   "id": "ec4b20a5-3358-48bb-afa4-307a1eddf97a",
   "metadata": {},
   "source": [
    "Regular Expressions"
   ]
  },
  {
   "cell_type": "markdown",
   "id": "defb41ae-5bb6-42d3-8843-50a1c4c168a0",
   "metadata": {},
   "source": [
    "Question 1- Write a Python program to replace all occurrences of a space, comma, or dot with a colon."
   ]
  },
  {
   "cell_type": "code",
   "execution_count": 368,
   "id": "3aedfe30-a3e7-4bd7-af64-13ee6dfe806a",
   "metadata": {},
   "outputs": [
    {
     "name": "stdout",
     "output_type": "stream",
     "text": [
      "Python:Exercises::PHP:exercises:\n"
     ]
    }
   ],
   "source": [
    "import re\n",
    "\n",
    "pattern=r'[\\s,\\.]'\n",
    "data='Python Exercises, PHP exercises.'\n",
    "\n",
    "print(re.sub(pattern,':',data))\n"
   ]
  },
  {
   "cell_type": "markdown",
   "id": "e3eb72f1-035d-46f5-abc4-7f16cbaafd9b",
   "metadata": {},
   "source": [
    "Question 2-  Create a dataframe using the dictionary below and remove everything (commas (,), !, XXXX, ;, etc.) from the columns except words."
   ]
  },
  {
   "cell_type": "markdown",
   "id": "94584a13-a940-4f37-b5a3-cc90e6909245",
   "metadata": {},
   "source": [
    "Dictionary- {'SUMMARY' : ['hello, world!', 'XXXXX test', '123four, five:; six...']}"
   ]
  },
  {
   "cell_type": "code",
   "execution_count": 270,
   "id": "8c73abf9-8093-42f7-a355-ebd437d4423f",
   "metadata": {},
   "outputs": [
    {
     "name": "stdout",
     "output_type": "stream",
     "text": [
      "       SUMMARY\n",
      "0   helloworld\n",
      "1         test\n",
      "2  fourfivesix\n"
     ]
    }
   ],
   "source": [
    "import pandas as pd\n",
    "import re\n",
    "\n",
    "data = {'SUMMARY': ['hello , world !', 'XXXXX test', '123 four , five :; six ...']}\n",
    "\n",
    "df = pd.DataFrame(data)\n",
    "\n",
    "def change(text):\n",
    "    text = re.sub(r'[\\WX+\\d]', '', text)\n",
    "    return text\n",
    "\n",
    "df['SUMMARY'] = df['SUMMARY'].apply(change)\n",
    "\n",
    "print(df)"
   ]
  },
  {
   "cell_type": "markdown",
   "id": "57e5f3f3-8d71-4ff4-af0b-4154e46fabf8",
   "metadata": {},
   "source": [
    "Question 3- Create a function in python to find all words that are at least 4 characters long in a string. The use of the re.compile() method is mandatory."
   ]
  },
  {
   "cell_type": "code",
   "execution_count": 178,
   "id": "8cc8556b-88a7-4d48-a306-1a7f40e16eb9",
   "metadata": {},
   "outputs": [
    {
     "name": "stdout",
     "output_type": "stream",
     "text": [
      "['comp', 'used', 'tech', 'nolo', 'gene', 'rate', 'high', 'qual', 'cont', 'thei', 'mark', 'etin', 'camp', 'aign']\n"
     ]
    }
   ],
   "source": [
    "import re\n",
    "\n",
    "def find(text):\n",
    "    pattern = re.compile(r\"\\w{4}\")\n",
    "    text=re.findall(pattern,text)\n",
    "    return text\n",
    "\n",
    "text=\"The company used AI technology to generate high-quality content for their marketing campaigns.\"\n",
    "find_word = find(text)\n",
    "print(find_word)\n",
    "\n",
    "\n"
   ]
  },
  {
   "cell_type": "markdown",
   "id": "606d3f58-59f3-4273-86f5-463a747dda07",
   "metadata": {},
   "source": [
    "Question 4- Create a function in python to find all three, four, and five character words in a string. The use of the re.compile() method is mandatory.\n"
   ]
  },
  {
   "cell_type": "code",
   "execution_count": 182,
   "id": "4f0a44a0-e4f3-4708-b17b-13c40381c469",
   "metadata": {},
   "outputs": [
    {
     "name": "stdout",
     "output_type": "stream",
     "text": [
      "['The', 'used', 'high', 'for', 'their']\n"
     ]
    }
   ],
   "source": [
    "import re\n",
    "\n",
    "def find(text):\n",
    "    pattern = re.compile(r\"\\b\\w{3,5}\\b\")\n",
    "    text=re.findall(pattern,text)\n",
    "    return text\n",
    "\n",
    "text=\"The company used AI technology to generate high-quality content for their marketing campaigns.\"\n",
    "find_word = find(text)\n",
    "print(find_word)\n"
   ]
  },
  {
   "cell_type": "markdown",
   "id": "0b57c54d-8d2b-471e-9767-a9d71c9a5c61",
   "metadata": {},
   "source": [
    "Question 5- Create a function in Python to remove the parenthesis in a list of strings. The use of the re.compile() method is mandatory."
   ]
  },
  {
   "cell_type": "code",
   "execution_count": 455,
   "id": "0b0eda51-e5ce-49ab-bf32-f63ed515f67f",
   "metadata": {},
   "outputs": [
    {
     "name": "stdout",
     "output_type": "stream",
     "text": [
      "\"example.com\",\"hr@fliprobo.com\",\"github.com\",\"HelloDataScienceWorld\",\"DataScientist\"\n"
     ]
    }
   ],
   "source": [
    "import re\n",
    "\n",
    "def find(text):\n",
    "    pattern = re.compile(r'[()\\[\\]\\s]')\n",
    "    text=re.sub(pattern,'',text)\n",
    "    return text\n",
    "\n",
    "text='[\"example (.com)\", \"hr@fliprobo (.com)\", \"github (.com)\", \"Hello (Data Science World)\", \"Data (Scientist)\"]'\n",
    "find_word = find(text)\n",
    "print(find_word)\n"
   ]
  },
  {
   "cell_type": "markdown",
   "id": "ac6ee045-ec2a-4c0e-b903-e11799928c23",
   "metadata": {},
   "source": [
    "Question 6- Write a python program to remove the parenthesis area from the text stored in the text file using Regular Expression."
   ]
  },
  {
   "cell_type": "code",
   "execution_count": 523,
   "id": "06a14d21-d623-40ce-8f49-ba760e914bbd",
   "metadata": {},
   "outputs": [
    {
     "name": "stdout",
     "output_type": "stream",
     "text": [
      "[\"example \", \"hr@fliprobo \", \"github \", \"Hello \", \"Data \"]\n"
     ]
    }
   ],
   "source": [
    "import re\n",
    "\n",
    "file=open('D:\\internship\\sample.txt', 'r')\n",
    "text = file.read()\n",
    "\n",
    "pattern = r'\\([^)]+\\)'\n",
    "result = re.sub(pattern, '', text)\n",
    "\n",
    "print(result)"
   ]
  },
  {
   "cell_type": "markdown",
   "id": "e3bfa83f-934a-49e1-b50d-47c3fcb4a3c3",
   "metadata": {},
   "source": [
    "Question 7- Write a regular expression in Python to split a string into uppercase letters."
   ]
  },
  {
   "cell_type": "code",
   "execution_count": 542,
   "id": "bca3e2c4-2a59-44c0-9507-2e6ee24ed918",
   "metadata": {},
   "outputs": [
    {
     "name": "stdout",
     "output_type": "stream",
     "text": [
      "['', 'Importance', 'Of', 'Regular', 'Expressions', 'In', 'Python']\n"
     ]
    }
   ],
   "source": [
    "import re\n",
    "text=\"ImportanceOfRegularExpressionsInPython\"\n",
    "\n",
    "pattern=r'(?=[A-Z])'\n",
    "\n",
    "result=re.split(pattern,text)\n",
    "\n",
    "print(result)"
   ]
  },
  {
   "cell_type": "markdown",
   "id": "26bea7a4-59f4-49cc-9c14-d020e657e5e0",
   "metadata": {},
   "source": [
    "\n",
    "Question 8- Create a function in python to insert spaces between words starting with numbers."
   ]
  },
  {
   "cell_type": "code",
   "execution_count": 666,
   "id": "9f7728ff-aeb3-4273-bf4f-2ddd19f55c94",
   "metadata": {},
   "outputs": [
    {
     "name": "stdout",
     "output_type": "stream",
     "text": [
      "RegularExpression 1IsAn 2ImportantTopic 3InPython\n"
     ]
    }
   ],
   "source": [
    "import re\n",
    "\n",
    "def seperate(text):\n",
    "    pattern = re.compile(r'(\\d)(?=\\w)')\n",
    "    text=re.sub(pattern, r' \\1',text)\n",
    "    return text\n",
    "\n",
    "text='RegularExpression1IsAn2ImportantTopic3InPython'\n",
    "result = seperate(text)\n",
    "print(result)"
   ]
  },
  {
   "cell_type": "markdown",
   "id": "3b444a9e-bb7f-47fb-8817-7e7e0daa3cf1",
   "metadata": {},
   "source": [
    "Question 9- Create a function in python to insert spaces between words starting with capital letters or with numbers.\n"
   ]
  },
  {
   "cell_type": "code",
   "execution_count": 687,
   "id": "54b848b6-cb6e-4fd7-85d3-cae9e01ead60",
   "metadata": {},
   "outputs": [
    {
     "name": "stdout",
     "output_type": "stream",
     "text": [
      " Regular Expression 1 Is An 2 Important Topic 3 In Python\n"
     ]
    }
   ],
   "source": [
    "import re\n",
    "\n",
    "def seperate(text):\n",
    "    pattern = re.compile(r'([A-Z]|[0-9])(?=[A-Z]|[0-9])?')\n",
    "    text=re.sub(pattern, r' \\1',text)\n",
    "    return text\n",
    "\n",
    "text='RegularExpression1IsAn2ImportantTopic3InPython'\n",
    "result = seperate(text)\n",
    "print(result)"
   ]
  },
  {
   "cell_type": "markdown",
   "id": "3cf4c9d0-a2df-4066-a100-f6a64ae5ff84",
   "metadata": {},
   "source": [
    "Question 10- Use the github link below to read the data and create a dataframe. After creating the dataframe extract the first 6 letters of each country and store in the dataframe under a new column called first_five_letters.\n",
    "    Github Link-https://raw.githubusercontent.com/dsrscientist/DSData/master/happiness_score_dataset.csv\n"
   ]
  },
  {
   "cell_type": "code",
   "execution_count": 757,
   "id": "2bb21e22-e5b8-4780-85d8-53f642c8de35",
   "metadata": {},
   "outputs": [
    {
     "name": "stdout",
     "output_type": "stream",
     "text": [
      "    first_five_letters\n",
      "0             [Switze]\n",
      "1             [Icelan]\n",
      "2             [Denmar]\n",
      "3             [Norway]\n",
      "4             [Canada]\n",
      "..                 ...\n",
      "153           [Rwanda]\n",
      "154                 []\n",
      "155                 []\n",
      "156           [Burund]\n",
      "157                 []\n",
      "\n",
      "[158 rows x 1 columns]\n"
     ]
    }
   ],
   "source": [
    "import pandas as pd\n",
    "import re\n",
    "\n",
    "url = 'https://raw.githubusercontent.com/dsrscientist/DSData/master/happiness_score_dataset.csv'\n",
    "df = pd.read_csv(url)\n",
    "result=pd.DataFrame()\n",
    "\n",
    "def extract(data):\n",
    "    pattern=r'^.{6}'\n",
    "    data=re.findall(pattern,data)\n",
    "    return data\n",
    "\n",
    "result['first_five_letters'] = df['Country'].apply(extract)\n",
    "\n",
    "print(result)"
   ]
  },
  {
   "cell_type": "markdown",
   "id": "fb3aa0f4-3ce8-40b5-87fa-a6d24295312c",
   "metadata": {},
   "source": [
    "Question 11- Write a Python program to match a string that contains only upper and lowercase letters, numbers, and underscores.\n"
   ]
  },
  {
   "cell_type": "code",
   "execution_count": 164,
   "id": "06249b11-4804-4257-8de5-5f77ec2a570b",
   "metadata": {},
   "outputs": [
    {
     "name": "stdin",
     "output_type": "stream",
     "text": [
      "Enter String nitin_Chavan001\n"
     ]
    },
    {
     "name": "stdout",
     "output_type": "stream",
     "text": [
      "String match\n"
     ]
    }
   ],
   "source": [
    "import re \n",
    "\n",
    "text=input(\"Enter String\")\n",
    "pattern=r'[A-Za-z0-9_]'\n",
    "\n",
    "match=re.match(pattern,text)\n",
    "if match:\n",
    "    print(\"String match\")\n",
    "else:\n",
    "    print(\"String Dosn't match\")\n",
    "\n"
   ]
  },
  {
   "cell_type": "markdown",
   "id": "d78a18ee-04ee-43ce-ae69-444d7972cab7",
   "metadata": {},
   "source": [
    "Question 12- Write a Python program where a string will start with a specific number. \n"
   ]
  },
  {
   "cell_type": "code",
   "execution_count": 194,
   "id": "16134cb3-4ced-4bf3-9485-af9de6c19c5f",
   "metadata": {},
   "outputs": [
    {
     "name": "stdin",
     "output_type": "stream",
     "text": [
      "Enter String 01asok\n"
     ]
    },
    {
     "name": "stdout",
     "output_type": "stream",
     "text": [
      "Valid String\n"
     ]
    }
   ],
   "source": [
    "import re \n",
    "\n",
    "text=input(\"Enter String\")\n",
    "pattern=r'^[01]'\n",
    "\n",
    "match=re.match(pattern,text)\n",
    "if match:\n",
    "    print(\"Valid String\")\n",
    "else:\n",
    "    print(\"Invalid String\")\n"
   ]
  },
  {
   "cell_type": "markdown",
   "id": "8a34b826-140d-44b0-bc45-0c223bf4fc95",
   "metadata": {},
   "source": [
    "Question 13- Write a Python program to remove leading zeros from an IP address\n"
   ]
  },
  {
   "cell_type": "code",
   "execution_count": 417,
   "id": "65e524ed-cacf-453e-bf3c-f983f019c392",
   "metadata": {},
   "outputs": [
    {
     "name": "stdout",
     "output_type": "stream",
     "text": [
      "1.23.1.8\n"
     ]
    }
   ],
   "source": [
    "import re\n",
    "ip_address=\"001.023.01.008\"\n",
    "pattern=r'[0]*'\n",
    "ip=re.sub(pattern,'',ip_address)\n",
    "\n",
    "print(ip)"
   ]
  },
  {
   "cell_type": "markdown",
   "id": "e118d868-4313-42e8-b3aa-869d5e35157f",
   "metadata": {},
   "source": [
    "Question 14- Write a regular expression in python to match a date string in the form of Month name followed by day number and year stored in a text file.\n"
   ]
  },
  {
   "cell_type": "code",
   "execution_count": 444,
   "id": "45c667cc-0ac3-418a-9ae1-73d00baaf008",
   "metadata": {},
   "outputs": [
    {
     "name": "stdout",
     "output_type": "stream",
     "text": [
      "['August 15th 1947']\n"
     ]
    }
   ],
   "source": [
    "import re\n",
    "file=open('D:\\internship\\sample2.txt', 'r')\n",
    "data = file.read()\n",
    "pattern=r'\\w{3,10}\\s\\d{2}th\\s\\d{4}'\n",
    "date=re.findall(pattern,data)\n",
    "print(date)"
   ]
  },
  {
   "cell_type": "markdown",
   "id": "9a85bead-cef8-4996-9f0e-e5bd95e66337",
   "metadata": {},
   "source": [
    "Question 15- Write a Python program to search some literals strings in a string. \n"
   ]
  },
  {
   "cell_type": "code",
   "execution_count": 572,
   "id": "a9e34d2d-d1fa-4f02-b4ac-8f233b2a078e",
   "metadata": {},
   "outputs": [
    {
     "name": "stdout",
     "output_type": "stream",
     "text": [
      "Found 'fox' at position 16\n",
      "Found 'dog' at position 40\n"
     ]
    }
   ],
   "source": [
    "import re\n",
    "\n",
    "def search(data,literals):\n",
    "    pattern = re.compile(literals)\n",
    "    matches = re.finditer(pattern, data)\n",
    "    for match in matches:\n",
    "        print(f\"Found '{match.group(0)}' at position {match.start()}\")\n",
    "\n",
    "data = \"The quick brown fox jumps over the lazy dog.\"\n",
    "literals = ['fox', 'dog', 'horse']\n",
    "\n",
    "search_literals(data, literals)"
   ]
  },
  {
   "cell_type": "markdown",
   "id": "bc57b979-9bdb-46cc-ad18-e0a67a66927c",
   "metadata": {},
   "source": [
    "Question 16- Write a Python program to search a literals string in a string and also find the location within the original string where the pattern occurs\n"
   ]
  },
  {
   "cell_type": "code",
   "execution_count": 557,
   "id": "5fedb089-018f-44b2-b5ef-ed3da8e861eb",
   "metadata": {},
   "outputs": [
    {
     "name": "stdout",
     "output_type": "stream",
     "text": [
      "literal 'fox' found at position 16\n"
     ]
    }
   ],
   "source": [
    "import re\n",
    "\n",
    "def search_literal(data, literal):\n",
    "    match = re.search(literal, data)\n",
    "    if match:\n",
    "        print(f\"literal '{literal}' found at position {match.start()}\")\n",
    "    else:\n",
    "        print(f\"literal '{literal}' not found in '{data}'\")\n",
    "\n",
    "data = \"The quick brown fox jumps over the lazy dog.\"\n",
    "literal =\"fox\"\n",
    "search_literal(data,literal)"
   ]
  },
  {
   "cell_type": "markdown",
   "id": "e893d008-746d-467a-94fe-4362ab2c427b",
   "metadata": {},
   "source": [
    "Question 17- Write a Python program to find the substrings within a string.\n"
   ]
  },
  {
   "cell_type": "code",
   "execution_count": 574,
   "id": "fbb7dff2-d9e0-4bc4-a833-e18294360769",
   "metadata": {},
   "outputs": [
    {
     "name": "stdout",
     "output_type": "stream",
     "text": [
      "[7, 22, 36]\n"
     ]
    }
   ],
   "source": [
    "import re\n",
    "\n",
    "def findsubstr(data, substring):\n",
    "    pattern = re.compile(substring)\n",
    "    matches = pattern.finditer(data)\n",
    "    return [match.start() for match in matches]\n",
    "\n",
    "data = \"Python exercises, PHP exercises, C# exercises\"\n",
    "substring = \"exercises\"\n",
    "\n",
    "print(findsubstr(data, substring))"
   ]
  },
  {
   "cell_type": "markdown",
   "id": "6f3fe111-9d38-4af2-846e-accdc430e514",
   "metadata": {},
   "source": [
    "Question 18- Write a Python program to find the occurrence and position of the substrings within a string.\n"
   ]
  },
  {
   "cell_type": "code",
   "execution_count": 591,
   "id": "fddde4ba-b71f-4bc8-a674-5104714aef82",
   "metadata": {},
   "outputs": [
    {
     "name": "stdout",
     "output_type": "stream",
     "text": [
      "Substring: exercises\n",
      "Positions: [7, 22, 36]\n",
      "No of occurrence: 3\n"
     ]
    }
   ],
   "source": [
    "import re\n",
    "\n",
    "def findsubstring(data, substring):\n",
    "    matches = re.finditer(substring, data)\n",
    "    \n",
    "    positions = []\n",
    "    \n",
    "    for match in matches:\n",
    "        positions.append(match.start())\n",
    "    \n",
    "    return positions\n",
    "\n",
    "data = \"Python exercises, PHP exercises, C# exercises\"\n",
    "substring = \"exercises\"\n",
    "positions = findsubstring(data, substring)\n",
    "\n",
    "print(\"Substring:\", substring)\n",
    "print(\"Positions:\", positions)\n",
    "print(\"No of occurrence:\",data.count(substring))"
   ]
  },
  {
   "cell_type": "markdown",
   "id": "92195650-53e2-4538-a46e-d4bc207007ee",
   "metadata": {},
   "source": [
    "Question 19- Write a Python program to convert a date of yyyy-mm-dd format to dd-mm-yyyy format.\n"
   ]
  },
  {
   "cell_type": "code",
   "execution_count": 610,
   "id": "93f9a213-e237-46ac-be45-73a320c30c98",
   "metadata": {},
   "outputs": [
    {
     "name": "stdout",
     "output_type": "stream",
     "text": [
      "Original date in YYYY-MM-DD Format:  2005-04-15\n",
      "New date in DD-MM-YYYY Format:  15-04-2005\n"
     ]
    }
   ],
   "source": [
    "import re\n",
    "\n",
    "def changedate(dt):\n",
    "    pattern=r'(\\d{4})-(\\d{1,2})-(\\d{1,2})'\n",
    "    return re.sub(pattern, r'\\3-\\2-\\1', dt)\n",
    "\n",
    "dt1 = \"2005-04-15\"\n",
    "print(\"Original date in YYYY-MM-DD Format: \", dt1)\n",
    "print(\"New date in DD-MM-YYYY Format: \", changedate(dt1))"
   ]
  },
  {
   "cell_type": "markdown",
   "id": "f229bbdf-07fc-43e5-b1a7-2a8f1502c5c2",
   "metadata": {},
   "source": [
    "Question 20- Create a function in python to find all decimal numbers with a precision of 1 or 2 in a string. The use of the re.compile() method is mandatory.\n"
   ]
  },
  {
   "cell_type": "code",
   "execution_count": 647,
   "id": "97767110-7f38-45aa-8dcc-77c58d68e58e",
   "metadata": {},
   "outputs": [
    {
     "name": "stdout",
     "output_type": "stream",
     "text": [
      "['01.12', '132.12', '2.31', '145.8', '3.01', '27.25', '0.25']\n"
     ]
    }
   ],
   "source": [
    "import re\n",
    "\n",
    "data = \"01.12 132.123 2.31875 145.8 3.01 27.25 0.25\"\n",
    "pattern = re.compile(r'(\\d+\\.\\d{1,2})')\n",
    "\n",
    "dec=re.findall(pattern,data)\n",
    "\n",
    "\n",
    "print(dec)"
   ]
  },
  {
   "cell_type": "markdown",
   "id": "610e9a91-1f08-4597-ae13-d15182173b04",
   "metadata": {},
   "source": [
    "\n",
    "Question 21- Write a Python program to separate and print the numbers and their position of a given string.\n"
   ]
  },
  {
   "cell_type": "code",
   "execution_count": 1005,
   "id": "e22bc634-1a8d-4543-af0f-5cae34e5ba99",
   "metadata": {},
   "outputs": [
    {
     "name": "stdout",
     "output_type": "stream",
     "text": [
      "Number: 50, Position: 10\n",
      "Number: 20, Position: 25\n"
     ]
    }
   ],
   "source": [
    "import re\n",
    "\n",
    "def separate(data):\n",
    "    pattern=r'\\d+'\n",
    "    matches=re.finditer(pattern, data)\n",
    "    for match in matches:\n",
    "          print(f\"Number: {match.group(0)}, Position: {match.start()}\")\n",
    "\n",
    "data = \"There are 50 mangoes and 20 apples in the Box.\"\n",
    "\n",
    "separate(data)"
   ]
  },
  {
   "cell_type": "markdown",
   "id": "14bd6ef5-0b0d-40fc-ba8a-7f5ca36105a0",
   "metadata": {},
   "source": [
    "Question 23- Create a function in python to insert spaces between words starting with capital letters.\n"
   ]
  },
  {
   "cell_type": "code",
   "execution_count": 850,
   "id": "85f1912c-119e-462f-afa5-c4ccc902a285",
   "metadata": {},
   "outputs": [
    {
     "name": "stdout",
     "output_type": "stream",
     "text": [
      " Regular Expression Is An Important Topic In Python\n"
     ]
    }
   ],
   "source": [
    "import re\n",
    "\n",
    "def seperate(text):\n",
    "    pattern = re.compile(r'([A-Z])(?=[A-Z])?')\n",
    "    text=re.sub(pattern, r' \\1',text)\n",
    "    return text\n",
    "\n",
    "text='RegularExpressionIsAnImportantTopicInPython'\n",
    "result = seperate(text)\n",
    "print(result)"
   ]
  },
  {
   "cell_type": "markdown",
   "id": "f9b11c7c-3109-428f-a219-92524a88886c",
   "metadata": {},
   "source": [
    "Question 24- Python regex to find sequences of one upper case letter followed by lower case letters\n"
   ]
  },
  {
   "cell_type": "code",
   "execution_count": 859,
   "id": "23ee3c66-4313-4a74-bce3-72afe44b3979",
   "metadata": {},
   "outputs": [
    {
     "name": "stdout",
     "output_type": "stream",
     "text": [
      "['Python', 'Sequences', 'Upper', 'Letter']\n"
     ]
    }
   ],
   "source": [
    "import re\n",
    "\n",
    "text = \"Python regex to find Sequences of one Upper case Letter followed by lower case letters.\"\n",
    "pattern = r'\\b[A-Z][a-z]+\\b'\n",
    "matches = re.findall(pattern, text)\n",
    "print(matches)"
   ]
  },
  {
   "cell_type": "markdown",
   "id": "ab3cc509-97b9-48f9-83d2-3523313e4522",
   "metadata": {},
   "source": [
    "Question 25- Write a Python program to remove continuous duplicate words from Sentence using Regular Expression.\n"
   ]
  },
  {
   "cell_type": "code",
   "execution_count": 932,
   "id": "537f4f40-02be-4255-ae7e-c24db9face02",
   "metadata": {},
   "outputs": [
    {
     "name": "stdout",
     "output_type": "stream",
     "text": [
      "Hello hello  world\n"
     ]
    }
   ],
   "source": [
    "import re\n",
    "\n",
    "def remove_duplicate_words(data):\n",
    "    pattern=re.compile(r'(\\b\\w+\\b)(?=.*\\1)')\n",
    "    data=re.sub(pattern,'', data)\n",
    "    return data\n",
    "\n",
    "data = \"Hello hello world world\"\n",
    "print(remove_duplicate_words(data))"
   ]
  },
  {
   "cell_type": "markdown",
   "id": "7f5a0704-64d6-4a6b-a6b0-405b75006afd",
   "metadata": {},
   "source": [
    "Question 26-  Write a python program using RegEx to accept string ending with alphanumeric character.\n"
   ]
  },
  {
   "cell_type": "code",
   "execution_count": 945,
   "id": "b00b6e1f-d0de-425a-b86c-8119c0f1319d",
   "metadata": {},
   "outputs": [
    {
     "name": "stdout",
     "output_type": "stream",
     "text": [
      "Accept\n"
     ]
    }
   ],
   "source": [
    "import re\n",
    "\n",
    "def check(Data):\n",
    "    pattern = re.compile(r'.*[a-zA-Z0-9]$')\n",
    "    if pattern.match(Data):\n",
    "        return \"Accept\"\n",
    "    else:\n",
    "        return \"Discard\"\n",
    "Data=\"ankitrai326\"\n",
    "print(check(Data))"
   ]
  },
  {
   "cell_type": "markdown",
   "id": "a1b14f76-63c2-4d01-a104-1270cddaaadc",
   "metadata": {},
   "source": [
    "Question 27-Write a python program using RegEx to extract the hashtags.\n"
   ]
  },
  {
   "cell_type": "code",
   "execution_count": 960,
   "id": "5b2323a3-ef07-495b-9ff7-5555d1f4efbd",
   "metadata": {},
   "outputs": [
    {
     "name": "stdout",
     "output_type": "stream",
     "text": [
      "['#Doltiwal', '#xyzabc', '#Demonetization']\n"
     ]
    }
   ],
   "source": [
    "import re\n",
    "\n",
    "text=\"\"\"RT @kapil_kausik: #Doltiwal I mean #xyzabc is \"hurt\" by #Demonetization as the same has rendered USELESS <ed><U+00A0><U+00BD><ed><U+00B1><U+0089> \"acquired funds\" No wo\"\"\"\n",
    "pattern = r'(#\\w+)'\n",
    "hashtags = re.findall(pattern, text)\n",
    "\n",
    "print(hashtags)"
   ]
  },
  {
   "cell_type": "markdown",
   "id": "737f3c66-0869-4253-aa39-e19913c3c706",
   "metadata": {},
   "source": [
    "Question 28- Write a python program using RegEx to remove <U+..> like symbols\n",
    "Check the below sample text, there are strange symbols something of the sort <U+..> all over the place. You need to come up with a general Regex expression that will cover all such symbols.\n"
   ]
  },
  {
   "cell_type": "markdown",
   "id": "9b575806-a99a-4e4e-a5fc-c42fa9e75692",
   "metadata": {},
   "source": [
    "Sample Text: \"@Jags123456 Bharat band on 28??<ed><U+00A0><U+00BD><ed><U+00B8><U+0082>Those who  are protesting #demonetization  are all different party leaders\"\r\n"
   ]
  },
  {
   "cell_type": "code",
   "execution_count": 970,
   "id": "3f85992e-5a8d-4896-93d0-5e176ae48349",
   "metadata": {},
   "outputs": [
    {
     "name": "stdout",
     "output_type": "stream",
     "text": [
      "@Jags123456 Bharat band on 28??<ed><ed>Those who  are protesting #demonetization  are all different party leaders\n"
     ]
    }
   ],
   "source": [
    "import re\n",
    "\n",
    "text =\"@Jags123456 Bharat band on 28??<ed><U+00A0><U+00BD><ed><U+00B8><U+0082>Those who  are protesting #demonetization  are all different party leaders\"\n",
    "\n",
    "pattern = r'<U\\+[0-9A-Za-z]+>'\n",
    "\n",
    "text = re.sub(pattern, '', text)\n",
    "\n",
    "print(text)"
   ]
  },
  {
   "cell_type": "markdown",
   "id": "135e11d7-1a4a-42fe-ba89-e698fb0282c9",
   "metadata": {},
   "source": [
    "Question 29- Write a python program to extract dates from the text stored in the text file.\n"
   ]
  },
  {
   "cell_type": "code",
   "execution_count": 981,
   "id": "409cd822-d23e-40bd-8904-0d5d3ff93b4d",
   "metadata": {},
   "outputs": [
    {
     "name": "stdout",
     "output_type": "stream",
     "text": [
      "['12-09-1992', '15-12-1999']\n"
     ]
    }
   ],
   "source": [
    "import re\n",
    "file=open('D:\\internship\\sample3.txt','r')\n",
    "data=file.read()\n",
    "pattern=r'\\d{2}-\\d{2}-\\d{4}'\n",
    "\n",
    "data=re.findall(pattern,data)\n",
    "print(data)"
   ]
  },
  {
   "cell_type": "markdown",
   "id": "ce176c09-5abe-4018-8428-3e464d871d13",
   "metadata": {},
   "source": [
    "Question 30- Create a function in python to remove all words from a string of length between 2 and 4.The use of the re.compile() method is mandatory.                 \r\n",
    "\n"
   ]
  },
  {
   "cell_type": "code",
   "execution_count": 999,
   "id": "4eeb0ec9-39a1-4e26-8ac3-4bfaaffb7da1",
   "metadata": {},
   "outputs": [
    {
     "name": "stdout",
     "output_type": "stream",
     "text": [
      " following example creates  ArrayList  a capacity   elements. 4 elements   added   ArrayList   ArrayList  trimmed accordingly.\n"
     ]
    }
   ],
   "source": [
    "import re\n",
    "\n",
    "def removel(data):\n",
    "    pattern=re.compile(r'\\b\\w{2,4}\\b',re.IGNORECASE)\n",
    "    data=re.sub(pattern,'',data)\n",
    "    return data\n",
    "\n",
    "data=\"The following example creates an ArrayList with a capacity of 50 elements. 4 elements are then added to the ArrayList and the ArrayList is trimmed accordingly.\"\n",
    "\n",
    "print(removel(data))"
   ]
  }
 ],
 "metadata": {
  "kernelspec": {
   "display_name": "Python 3 (ipykernel)",
   "language": "python",
   "name": "python3"
  },
  "language_info": {
   "codemirror_mode": {
    "name": "ipython",
    "version": 3
   },
   "file_extension": ".py",
   "mimetype": "text/x-python",
   "name": "python",
   "nbconvert_exporter": "python",
   "pygments_lexer": "ipython3",
   "version": "3.11.7"
  }
 },
 "nbformat": 4,
 "nbformat_minor": 5
}
